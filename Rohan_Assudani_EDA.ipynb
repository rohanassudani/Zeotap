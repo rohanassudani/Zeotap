{
  "nbformat": 4,
  "nbformat_minor": 0,
  "metadata": {
    "colab": {
      "provenance": []
    },
    "kernelspec": {
      "name": "python3",
      "display_name": "Python 3"
    },
    "language_info": {
      "name": "python"
    }
  },
  "cells": [
    {
      "cell_type": "code",
      "execution_count": 1,
      "metadata": {
        "colab": {
          "base_uri": "https://localhost:8080/"
        },
        "id": "AgorHKywp44f",
        "outputId": "1b45ffc2-7745-48fc-b06b-00e81412c4d5"
      },
      "outputs": [
        {
          "output_type": "stream",
          "name": "stdout",
          "text": [
            "Customers Dataset:\n",
            "  CustomerID        CustomerName         Region  SignupDate\n",
            "0      C0001    Lawrence Carroll  South America  2022-07-10\n",
            "1      C0002      Elizabeth Lutz           Asia  2022-02-13\n",
            "2      C0003      Michael Rivera  South America  2024-03-07\n",
            "3      C0004  Kathleen Rodriguez  South America  2022-10-09\n",
            "4      C0005         Laura Weber           Asia  2022-08-15\n",
            "\n",
            "Products Dataset:\n",
            "  ProductID              ProductName     Category   Price\n",
            "0      P001     ActiveWear Biography        Books  169.30\n",
            "1      P002    ActiveWear Smartwatch  Electronics  346.30\n",
            "2      P003  ComfortLiving Biography        Books   44.12\n",
            "3      P004            BookWorld Rug   Home Decor   95.69\n",
            "4      P005          TechPro T-Shirt     Clothing  429.31\n",
            "\n",
            "Transactions Dataset:\n",
            "  TransactionID CustomerID ProductID      TransactionDate  Quantity  \\\n",
            "0        T00001      C0199      P067  2024-08-25 12:38:23         1   \n",
            "1        T00112      C0146      P067  2024-05-27 22:23:54         1   \n",
            "2        T00166      C0127      P067  2024-04-25 07:38:55         1   \n",
            "3        T00272      C0087      P067  2024-03-26 22:55:37         2   \n",
            "4        T00363      C0070      P067  2024-03-21 15:10:10         3   \n",
            "\n",
            "   TotalValue   Price  \n",
            "0      300.68  300.68  \n",
            "1      300.68  300.68  \n",
            "2      300.68  300.68  \n",
            "3      601.36  300.68  \n",
            "4      902.04  300.68  \n"
          ]
        }
      ],
      "source": [
        "import pandas as pd\n",
        "\n",
        "customers = pd.read_csv('Customers.csv')\n",
        "products = pd.read_csv('Products.csv')\n",
        "transactions = pd.read_csv('Transactions.csv')\n",
        "\n",
        "print(\"Customers Dataset:\")\n",
        "print(customers.head())\n",
        "\n",
        "print(\"\\nProducts Dataset:\")\n",
        "print(products.head())\n",
        "\n",
        "print(\"\\nTransactions Dataset:\")\n",
        "print(transactions.head())"
      ]
    },
    {
      "cell_type": "code",
      "source": [
        "print(\"Customers Shape:\", customers.shape)\n",
        "print(\"Products Shape:\", products.shape)\n",
        "print(\"Transactions Shape:\", transactions.shape)\n",
        "\n",
        "print(\"\\nMissing Values in Customers:\")\n",
        "print(customers.isnull().sum())\n",
        "\n",
        "print(\"\\nMissing Values in Products:\")\n",
        "print(products.isnull().sum())\n",
        "\n",
        "print(\"\\nMissing Values in Transactions:\")\n",
        "print(transactions.isnull().sum())"
      ],
      "metadata": {
        "colab": {
          "base_uri": "https://localhost:8080/"
        },
        "id": "AEroiLrYqy3_",
        "outputId": "99bcc2f8-1202-4cec-e339-85d7f373cf2b"
      },
      "execution_count": 2,
      "outputs": [
        {
          "output_type": "stream",
          "name": "stdout",
          "text": [
            "Customers Shape: (200, 4)\n",
            "Products Shape: (100, 4)\n",
            "Transactions Shape: (1000, 7)\n",
            "\n",
            "Missing Values in Customers:\n",
            "CustomerID      0\n",
            "CustomerName    0\n",
            "Region          0\n",
            "SignupDate      0\n",
            "dtype: int64\n",
            "\n",
            "Missing Values in Products:\n",
            "ProductID      0\n",
            "ProductName    0\n",
            "Category       0\n",
            "Price          0\n",
            "dtype: int64\n",
            "\n",
            "Missing Values in Transactions:\n",
            "TransactionID      0\n",
            "CustomerID         0\n",
            "ProductID          0\n",
            "TransactionDate    0\n",
            "Quantity           0\n",
            "TotalValue         0\n",
            "Price              0\n",
            "dtype: int64\n"
          ]
        }
      ]
    },
    {
      "cell_type": "code",
      "source": [
        "total_customers = customers['CustomerID'].nunique()\n",
        "total_products = products['ProductID'].nunique()\n",
        "total_transactions = transactions['TransactionID'].nunique()\n",
        "total_revenue = transactions['TotalValue'].sum()\n",
        "print(f\"\\nTotal Customers: {total_customers}\")\n",
        "print(f\"Total Products: {total_products}\")\n",
        "print(f\"Total Transactions: {total_transactions}\")\n",
        "print(f\"Total Revenue: ${total_revenue:.2f}\")"
      ],
      "metadata": {
        "colab": {
          "base_uri": "https://localhost:8080/"
        },
        "id": "ZyBUH4GnrCK3",
        "outputId": "a843b142-9b4c-412c-e2a4-5b203605c56e"
      },
      "execution_count": 3,
      "outputs": [
        {
          "output_type": "stream",
          "name": "stdout",
          "text": [
            "\n",
            "Total Customers: 200\n",
            "Total Products: 100\n",
            "Total Transactions: 1000\n",
            "Total Revenue: $689995.56\n"
          ]
        }
      ]
    },
    {
      "cell_type": "code",
      "source": [
        "customer_region_distribution = customers['Region'].value_counts()\n",
        "print(\"\\nCustomer Region Distribution:\")\n",
        "print(customer_region_distribution)\n",
        "\n",
        "customers['SignupDate'] = pd.to_datetime(customers['SignupDate'])\n",
        "signup_trends = customers['SignupDate'].dt.to_period('M').value_counts().sort_index()\n",
        "print(\"\\nSignup Trends:\")\n",
        "print(signup_trends)"
      ],
      "metadata": {
        "colab": {
          "base_uri": "https://localhost:8080/"
        },
        "id": "Z1vPsXzIrUBH",
        "outputId": "e831d9bf-64b7-4bc2-b7bd-9d06097ff798"
      },
      "execution_count": 4,
      "outputs": [
        {
          "output_type": "stream",
          "name": "stdout",
          "text": [
            "\n",
            "Customer Region Distribution:\n",
            "Region\n",
            "South America    59\n",
            "Europe           50\n",
            "North America    46\n",
            "Asia             45\n",
            "Name: count, dtype: int64\n",
            "\n",
            "Signup Trends:\n",
            "SignupDate\n",
            "2022-01     1\n",
            "2022-02     7\n",
            "2022-03     8\n",
            "2022-04     8\n",
            "2022-05     8\n",
            "2022-06     5\n",
            "2022-07     4\n",
            "2022-08     4\n",
            "2022-09     6\n",
            "2022-10     3\n",
            "2022-11     3\n",
            "2022-12     7\n",
            "2023-01     5\n",
            "2023-02     6\n",
            "2023-03     8\n",
            "2023-04     6\n",
            "2023-05     3\n",
            "2023-06     3\n",
            "2023-07     3\n",
            "2023-08     2\n",
            "2023-09     4\n",
            "2023-10     7\n",
            "2023-11     5\n",
            "2023-12     5\n",
            "2024-01     9\n",
            "2024-02     8\n",
            "2024-03     4\n",
            "2024-04    10\n",
            "2024-05     6\n",
            "2024-06     4\n",
            "2024-07     6\n",
            "2024-08     4\n",
            "2024-09    11\n",
            "2024-10     5\n",
            "2024-11    11\n",
            "2024-12     1\n",
            "Freq: M, Name: count, dtype: int64\n"
          ]
        }
      ]
    },
    {
      "cell_type": "code",
      "source": [
        "import matplotlib.pyplot as plt\n",
        "import seaborn as sns\n",
        "\n",
        "transactions['TransactionDate'] = pd.to_datetime(transactions['TransactionDate'])\n",
        "transaction_trends = transactions['TransactionDate'].dt.to_period('M').value_counts().sort_index()\n",
        "print(\"\\nTransaction Trends:\")\n",
        "print(transaction_trends)\n",
        "\n",
        "total_sales_per_region = transactions.merge(customers[['CustomerID', 'Region']], on='CustomerID')\n",
        "total_sales_per_region = total_sales_per_region.groupby('Region')['TotalValue'].sum().reset_index()\n",
        "total_sales_per_region = total_sales_per_region.sort_values(by='TotalValue', ascending=False)\n",
        "\n",
        "print(\"\\nTotal Sales per Region:\")\n",
        "print(total_sales_per_region)\n",
        "\n",
        "plt.figure(figsize=(10, 6))\n",
        "sns.barplot(x='TotalValue', y='Region', data=total_sales_per_region)\n",
        "plt.title('Total Sales per Region')\n",
        "plt.xlabel('Total Sales ($)')\n",
        "plt.ylabel('Region')\n",
        "plt.show()"
      ],
      "metadata": {
        "colab": {
          "base_uri": "https://localhost:8080/",
          "height": 980
        },
        "id": "y3qg0SmIsM60",
        "outputId": "f38967dd-0e42-44ea-a733-b6790e46167f"
      },
      "execution_count": 9,
      "outputs": [
        {
          "output_type": "stream",
          "name": "stdout",
          "text": [
            "\n",
            "Transaction Trends:\n",
            "TransactionDate\n",
            "2023-12      4\n",
            "2024-01    107\n",
            "2024-02     77\n",
            "2024-03     80\n",
            "2024-04     86\n",
            "2024-05     86\n",
            "2024-06     69\n",
            "2024-07     96\n",
            "2024-08     94\n",
            "2024-09     96\n",
            "2024-10     70\n",
            "2024-11     57\n",
            "2024-12     78\n",
            "Freq: M, Name: count, dtype: int64\n",
            "\n",
            "Total Sales per Region:\n",
            "          Region  TotalValue\n",
            "3  South America   219352.56\n",
            "1         Europe   166254.63\n",
            "2  North America   152313.40\n",
            "0           Asia   152074.97\n"
          ]
        },
        {
          "output_type": "display_data",
          "data": {
            "text/plain": [
              "<Figure size 1000x600 with 1 Axes>"
            ],
            "image/png": "[encoded data removed]"
          },
          "metadata": {}
        }
      ]
    }
  ]
}