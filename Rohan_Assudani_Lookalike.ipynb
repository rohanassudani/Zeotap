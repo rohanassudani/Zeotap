{
  "nbformat": 4,
  "nbformat_minor": 0,
  "metadata": {
    "colab": {
      "provenance": []
    },
    "kernelspec": {
      "name": "python3",
      "display_name": "Python 3"
    },
    "language_info": {
      "name": "python"
    }
  },
  "cells": [
    {
      "cell_type": "code",
      "source": [
        "import pandas as pd\n",
        "from sklearn.preprocessing import StandardScaler\n",
        "from sklearn.metrics.pairwise import cosine_similarity\n",
        "\n",
        "# Step 1: Loading the datasets\n",
        "customers = pd.read_csv('Customers.csv')\n",
        "transactions = pd.read_csv('Transactions.csv')\n",
        "\n",
        "# Step 2: Merging of customer and transaction data\n",
        "customer_transactions = transactions.merge(customers, on='CustomerID')\n",
        "\n",
        "# Step 3: Creating customer profiles\n",
        "customer_profiles = customer_transactions.groupby('CustomerID').agg({\n",
        "    'TotalValue': 'sum',\n",
        "    'TransactionID': 'count',\n",
        "    'ProductID': 'nunique'\n",
        "}).reset_index()\n",
        "\n",
        "# Renaming of columns for clarity\n",
        "customer_profiles.columns = ['CustomerID', 'TotalSpent', 'TransactionCount', 'UniqueProducts']\n",
        "\n",
        "# Merging with customer demographics to include region information\n",
        "customer_profiles = customer_profiles.merge(customers[['CustomerID', 'Region']], on='CustomerID')\n",
        "\n",
        "# Step 4: Preparing features for similarity calculation\n",
        "features = pd.get_dummies(customer_profiles[['Region']], drop_first=True)\n",
        "features = pd.concat([customer_profiles[['TotalSpent', 'TransactionCount', 'UniqueProducts']], features], axis=1)\n",
        "\n",
        "# Step 5: Scaling the features\n",
        "scaler = StandardScaler()\n",
        "scaled_features = scaler.fit_transform(features)\n",
        "\n",
        "# Step 6: Calculating cosine similarity\n",
        "similarity_matrix = cosine_similarity(scaled_features)\n",
        "\n",
        "# Step 7: Creating a dictionary to store recommendations\n",
        "recommendations = {}\n",
        "\n",
        "# Step 8: Get the top 3 lookalikes for the first 20 customers\n",
        "for i in range(20):\n",
        "    customer_id = customer_profiles['CustomerID'].iloc[i]\n",
        "    similarity_scores = list(enumerate(similarity_matrix[i]))\n",
        "    sorted_scores = sorted(similarity_scores, key=lambda x: x[1], reverse=True)[1:4]\n",
        "    recommendations[customer_id] = [(customer_profiles['CustomerID'].iloc[j], score) for j, score in sorted_scores]\n",
        "\n",
        "# Step 9: Preparing data for CSV output\n",
        "lookalike_data = []\n",
        "for cust_id, lookalikes in recommendations.items():\n",
        "    for lookalike_id, score in lookalikes:\n",
        "        lookalike_data.append({'CustomerID': cust_id, 'LookalikeID': lookalike_id, 'SimilarityScore': score})\n",
        "\n",
        "# Step 10: Creating DataFrame and saving to CSV\n",
        "lookalike_df = pd.DataFrame(lookalike_data)\n",
        "lookalike_df.to_csv('Lookalike.csv', index=False)\n",
        "\n",
        "# Step 11: Downloading the file\n",
        "from google.colab import files\n",
        "files.download('Lookalike.csv')\n",
        "\n"
      ],
      "metadata": {
        "colab": {
          "base_uri": "https://localhost:8080/",
          "height": 34
        },
        "id": "BN-cQspb2d-T",
        "outputId": "2b199ee6-3284-4b44-975d-0095519360cb"
      },
      "execution_count": 16,
      "outputs": [
        {
          "output_type": "display_data",
          "data": {
            "text/plain": [
              "<IPython.core.display.Javascript object>"
            ],
            "application/javascript": [
              "\n",
              "    async function download(id, filename, size) {\n",
              "      if (!google.colab.kernel.accessAllowed) {\n",
              "        return;\n",
              "      }\n",
              "      const div = document.createElement('div');\n",
              "      const label = document.createElement('label');\n",
              "      label.textContent = `Downloading \"${filename}\": `;\n",
              "      div.appendChild(label);\n",
              "      const progress = document.createElement('progress');\n",
              "      progress.max = size;\n",
              "      div.appendChild(progress);\n",
              "      document.body.appendChild(div);\n",
              "\n",
              "      const buffers = [];\n",
              "      let downloaded = 0;\n",
              "\n",
              "      const channel = await google.colab.kernel.comms.open(id);\n",
              "      // Send a message to notify the kernel that we're ready.\n",
              "      channel.send({})\n",
              "\n",
              "      for await (const message of channel.messages) {\n",
              "        // Send a message to notify the kernel that we're ready.\n",
              "        channel.send({})\n",
              "        if (message.buffers) {\n",
              "          for (const buffer of message.buffers) {\n",
              "            buffers.push(buffer);\n",
              "            downloaded += buffer.byteLength;\n",
              "            progress.value = downloaded;\n",
              "          }\n",
              "        }\n",
              "      }\n",
              "      const blob = new Blob(buffers, {type: 'application/binary'});\n",
              "      const a = document.createElement('a');\n",
              "      a.href = window.URL.createObjectURL(blob);\n",
              "      a.download = filename;\n",
              "      div.appendChild(a);\n",
              "      a.click();\n",
              "      div.remove();\n",
              "    }\n",
              "  "
            ]
          },
          "metadata": {}
        },
        {
          "output_type": "display_data",
          "data": {
            "text/plain": [
              "<IPython.core.display.Javascript object>"
            ],
            "application/javascript": [
              "download(\"download_c7648d8f-a6fb-4343-b0a2-ab14647ff1d4\", \"Lookalike.csv\", 1890)"
            ]
          },
          "metadata": {}
        },
        {
          "output_type": "stream",
          "name": "stdout",
          "text": [
            "Lookalike recommendations saved to Lookalike.csv and ready for download.\n"
          ]
        }
      ]
    }
  ]
}